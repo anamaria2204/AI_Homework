{
  "nbformat": 4,
  "nbformat_minor": 0,
  "metadata": {
    "colab": {
      "provenance": [],
      "toc_visible": true,
      "authorship_tag": "ABX9TyMYX/ddhBK2cHmS6r11vbKn",
      "include_colab_link": true
    },
    "kernelspec": {
      "name": "python3",
      "display_name": "Python 3"
    },
    "language_info": {
      "name": "python"
    }
  },
  "cells": [
    {
      "cell_type": "markdown",
      "metadata": {
        "id": "view-in-github",
        "colab_type": "text"
      },
      "source": [
        "<a href=\"https://colab.research.google.com/github/anamaria2204/AI_Homework/blob/main/Lab7_AI.ipynb\" target=\"_parent\"><img src=\"https://colab.research.google.com/assets/colab-badge.svg\" alt=\"Open In Colab\"/></a>"
      ]
    },
    {
      "cell_type": "markdown",
      "source": [
        "# Creare baza de date\n",
        "\n"
      ],
      "metadata": {
        "id": "EwJJca0OggxL"
      }
    },
    {
      "cell_type": "code",
      "source": [
        "from google.colab import drive\n",
        "\n",
        "# Montează Drive-ul\n",
        "drive.mount('/content/drive')"
      ],
      "metadata": {
        "colab": {
          "base_uri": "https://localhost:8080/"
        },
        "id": "qk5_2XIvS32M",
        "outputId": "ea20a239-7eaa-43f9-b69a-fa1402000fb2"
      },
      "execution_count": 122,
      "outputs": [
        {
          "output_type": "stream",
          "name": "stdout",
          "text": [
            "Drive already mounted at /content/drive; to attempt to forcibly remount, call drive.mount(\"/content/drive\", force_remount=True).\n"
          ]
        }
      ]
    },
    {
      "cell_type": "code",
      "execution_count": 123,
      "metadata": {
        "id": "t71ALs9gPPQE"
      },
      "outputs": [],
      "source": [
        "import itertools\n",
        "import pandas as pd\n",
        "import numpy as np\n",
        "import os\n",
        "import random\n",
        "from PIL import Image\n",
        "import matplotlib.pyplot as plt\n",
        "from sklearn.metrics import confusion_matrix\n",
        "import itertools\n",
        "from google.colab import drive"
      ]
    },
    {
      "cell_type": "code",
      "source": [
        "def apply_sepia_filter(image):\n",
        "    try:\n",
        "        width, height = image.size\n",
        "        pixels = image.load()\n",
        "        for py in range(height):\n",
        "            for px in range(width):\n",
        "                r, g, b = image.getpixel((px, py))\n",
        "                tr = int(0.393 * r + 0.769 * g + 0.189 * b)\n",
        "                tg = int(0.349 * r + 0.686 * g + 0.168 * b)\n",
        "                tb = int(0.272 * r + 0.534 * g + 0.131 * b)\n",
        "                tr = min(255, tr)\n",
        "                tg = min(255, tg)\n",
        "                tb = min(255, tb)\n",
        "                pixels[px, py] = (tr, tg, tb)\n",
        "        return image\n",
        "    except Exception as e:\n",
        "        print(f\"Error applying sepia filter: {e}\")\n",
        "        return None"
      ],
      "metadata": {
        "id": "2r7h7qg8P6jn"
      },
      "execution_count": 124,
      "outputs": []
    },
    {
      "cell_type": "code",
      "source": [
        "def generate_images(image_dir, image_base):\n",
        "    os.makedirs(image_base, exist_ok=True)\n",
        "\n",
        "    images = [f for f in os.listdir(image_dir) if f.lower().endswith(('.jpg'))]\n",
        "    random.shuffle(images)\n",
        "    sepia_indices = np.random.choice(len(images), len(images) // 2, replace=False)\n",
        "    data_for_csv = []\n",
        "\n",
        "    for index, filename in enumerate(images):\n",
        "        file_path = os.path.join(image_dir, filename)\n",
        "        try:\n",
        "            image = Image.open(file_path)\n",
        "\n",
        "            is_sepia = 0\n",
        "            output_filename = f\"not_sepia_{filename}\"\n",
        "\n",
        "            if index in sepia_indices:\n",
        "                filtered_image = apply_sepia_filter(image)\n",
        "                if filtered_image is not None:\n",
        "                    output_filename = f\"sepia_{filename}\"\n",
        "                    output_path = os.path.join(image_base, output_filename)\n",
        "                    filtered_image.save(output_path)\n",
        "                    is_sepia = 1\n",
        "                else:\n",
        "                    output_path = os.path.join(image_base, output_filename)\n",
        "                    image.save(output_path)\n",
        "            else:\n",
        "                output_path = os.path.join(image_base, output_filename)\n",
        "                image.save(output_path)\n",
        "\n",
        "            data_for_csv.append([output_path, is_sepia])\n",
        "            print(f\"Processed: {output_filename} (Sepia: {is_sepia})\")\n",
        "\n",
        "        except Exception as e:\n",
        "            print(f\"Error processing {filename}: {e}\")\n",
        "\n",
        "    df = pd.DataFrame(data_for_csv, columns=['file_path', 'is_sepia'])\n",
        "    csv_path = os.path.join(image_base, 'image_labels3.csv')\n",
        "    df.to_csv(csv_path, index=False)\n",
        "    print(f\"\\nData saved to {csv_path}\")\n",
        "    print(df.head())\n",
        "\n",
        "source_dir = '/content/drive/MyDrive/JellyFish'\n",
        "output_dir = '/content/drive/MyDrive/imagini3'\n",
        "\n",
        "generate_images(source_dir, output_dir)"
      ],
      "metadata": {
        "colab": {
          "base_uri": "https://localhost:8080/"
        },
        "id": "LwBNRihIQCPs",
        "outputId": "c88ad0b3-d017-4971-da49-13c1e6f1607c"
      },
      "execution_count": 125,
      "outputs": [
        {
          "output_type": "stream",
          "name": "stdout",
          "text": [
            "Processed: sepia_JellyFish (351).jpg (Sepia: 1)\n",
            "Processed: not_sepia_JellyFish (314).jpg (Sepia: 0)\n",
            "Processed: sepia_6290774083_07778af4f5_o.jpg (Sepia: 1)\n",
            "Processed: not_sepia_5616977734_5ca9b2b9b6_b.jpg (Sepia: 0)\n",
            "Processed: sepia_JellyFish (304).jpg (Sepia: 1)\n",
            "Processed: not_sepia_4968421767_b646c783cc_o.jpg (Sepia: 0)\n",
            "Processed: not_sepia_JellyFish (320).jpg (Sepia: 0)\n",
            "Processed: sepia_JellyFish (5).jpg (Sepia: 1)\n",
            "Processed: sepia_6051740643_2a0551338e_o.jpg (Sepia: 1)\n",
            "Processed: not_sepia_JellyFish (81).jpg (Sepia: 0)\n",
            "Processed: not_sepia_JellyFish (95).jpg (Sepia: 0)\n",
            "Processed: not_sepia_JellyFish (308).jpg (Sepia: 0)\n",
            "Processed: not_sepia_JellyFish (86).jpg (Sepia: 0)\n",
            "Processed: not_sepia_JellyFish (89).jpg (Sepia: 0)\n",
            "Processed: not_sepia_JellyFish (67).jpg (Sepia: 0)\n",
            "Processed: not_sepia_JellyFish (302).jpg (Sepia: 0)\n",
            "Processed: not_sepia_JellyFish (299).jpg (Sepia: 0)\n",
            "Processed: sepia_JellyFish (305).jpg (Sepia: 1)\n",
            "Processed: sepia_5597956465_97f4d2ddfe_b.jpg (Sepia: 1)\n",
            "Processed: not_sepia_JellyFish (48).jpg (Sepia: 0)\n",
            "Processed: sepia_5637325602_9d93bc269d_b.jpg (Sepia: 1)\n",
            "Processed: sepia_JellyFish (45).jpg (Sepia: 1)\n",
            "Processed: not_sepia_JellyFish (54).jpg (Sepia: 0)\n",
            "Processed: not_sepia_JellyFish (338).jpg (Sepia: 0)\n",
            "Processed: sepia_JellyFish (319).jpg (Sepia: 1)\n",
            "Processed: sepia_JellyFish (315).jpg (Sepia: 1)\n",
            "Processed: not_sepia_JellyFish (337).jpg (Sepia: 0)\n",
            "Processed: sepia_JellyFish (98).jpg (Sepia: 1)\n",
            "Processed: sepia_JellyFish (69).jpg (Sepia: 1)\n",
            "Processed: not_sepia_JellyFish (9).jpg (Sepia: 0)\n",
            "Processed: not_sepia_5492095356_a73e028019_o.jpg (Sepia: 0)\n",
            "Processed: sepia_JellyFish (343).jpg (Sepia: 1)\n",
            "Processed: not_sepia_JellyFish (309).jpg (Sepia: 0)\n",
            "Processed: not_sepia_JellyFish (321).jpg (Sepia: 0)\n",
            "Processed: not_sepia_JellyFish (290).jpg (Sepia: 0)\n",
            "Processed: sepia_JellyFish (33).jpg (Sepia: 1)\n",
            "Processed: sepia_JellyFish (294).jpg (Sepia: 1)\n",
            "Processed: sepia_JellyFish (39).jpg (Sepia: 1)\n",
            "Processed: not_sepia_JellyFish (354).jpg (Sepia: 0)\n",
            "Processed: sepia_6253289987_61f87e7e18_b.jpg (Sepia: 1)\n",
            "Processed: sepia_JellyFish (64).jpg (Sepia: 1)\n",
            "Processed: not_sepia_4853012267_37cac00eb6_o.jpg (Sepia: 0)\n",
            "Processed: sepia_JellyFish (31).jpg (Sepia: 1)\n",
            "Processed: sepia_6462122981_2613633c9d_b.jpg (Sepia: 1)\n",
            "Processed: not_sepia_547695109_296404d69b_o.jpg (Sepia: 0)\n",
            "Processed: sepia_JellyFish (76).jpg (Sepia: 1)\n",
            "Processed: sepia_4853635270_e4020294f1_o.jpg (Sepia: 1)\n",
            "Processed: not_sepia_JellyFish (329).jpg (Sepia: 0)\n",
            "Processed: not_sepia_JellyFish (353).jpg (Sepia: 0)\n",
            "Processed: sepia_6234972548_d10a0a85ba_o.jpg (Sepia: 1)\n",
            "Processed: sepia_JellyFish (92).jpg (Sepia: 1)\n",
            "Processed: sepia_JellyFish (62).jpg (Sepia: 1)\n",
            "Processed: sepia_6299965691_5404986fdd_b.jpg (Sepia: 1)\n",
            "Processed: sepia_JellyFish (293).jpg (Sepia: 1)\n",
            "Processed: not_sepia_JellyFish (318).jpg (Sepia: 0)\n",
            "Processed: sepia_JellyFish (325).jpg (Sepia: 1)\n",
            "Processed: not_sepia_JellyFish (75).jpg (Sepia: 0)\n",
            "Processed: sepia_JellyFish (35).jpg (Sepia: 1)\n",
            "Processed: sepia_JellyFish (350).jpg (Sepia: 1)\n",
            "Processed: not_sepia_JellyFish (61).jpg (Sepia: 0)\n",
            "Processed: sepia_5883663633_e453d9e149_o.jpg (Sepia: 1)\n",
            "Processed: not_sepia_496786282_3f0a1f65a0_o.jpg (Sepia: 0)\n",
            "Processed: sepia_JellyFish (42).jpg (Sepia: 1)\n",
            "Processed: sepia_JellyFish (91).jpg (Sepia: 1)\n",
            "Processed: not_sepia_JellyFish (37).jpg (Sepia: 0)\n",
            "Processed: sepia_JellyFish (29).jpg (Sepia: 1)\n",
            "Processed: sepia_JellyFish (78).jpg (Sepia: 1)\n",
            "Processed: sepia_JellyFish (52).jpg (Sepia: 1)\n",
            "Processed: sepia_JellyFish (84).jpg (Sepia: 1)\n",
            "Processed: not_sepia_JellyFish (4).jpg (Sepia: 0)\n",
            "Processed: sepia_JellyFish (8).jpg (Sepia: 1)\n",
            "Processed: not_sepia_5492445002_a7fee665b5_b.jpg (Sepia: 0)\n",
            "Processed: not_sepia_5297645412_1cb4db384a_b.jpg (Sepia: 0)\n",
            "Processed: not_sepia_JellyFish (292).jpg (Sepia: 0)\n",
            "Processed: sepia_JellyFish (297).jpg (Sepia: 1)\n",
            "Processed: sepia_JellyFish (289).jpg (Sepia: 1)\n",
            "Processed: sepia_JellyFish (65).jpg (Sepia: 1)\n",
            "Processed: not_sepia_6604394279_1b36d311df_b.jpg (Sepia: 0)\n",
            "Processed: sepia_6070072007_9d121e16d1_o.jpg (Sepia: 1)\n",
            "Processed: sepia_JellyFish (335).jpg (Sepia: 1)\n",
            "Processed: not_sepia_JellyFish (7).jpg (Sepia: 0)\n",
            "Processed: not_sepia_4667960436_f47a2b0b17_b.jpg (Sepia: 0)\n",
            "Processed: sepia_JellyFish (46).jpg (Sepia: 1)\n",
            "Processed: sepia_JellyFish (51).jpg (Sepia: 1)\n",
            "Processed: not_sepia_JellyFish (323).jpg (Sepia: 0)\n",
            "Processed: not_sepia_JellyFish (303).jpg (Sepia: 0)\n",
            "Processed: sepia_6121293869_8a583592fc_o.jpg (Sepia: 1)\n",
            "Processed: not_sepia_JellyFish (60).jpg (Sepia: 0)\n",
            "Processed: sepia_JellyFish (30).jpg (Sepia: 1)\n",
            "Processed: sepia_JellyFish (341).jpg (Sepia: 1)\n",
            "Processed: not_sepia_6282016008_3da15a2aee_o.jpg (Sepia: 0)\n",
            "Processed: sepia_JellyFish (32).jpg (Sepia: 1)\n",
            "Processed: sepia_JellyFish (357).jpg (Sepia: 1)\n",
            "Processed: not_sepia_JellyFish (310).jpg (Sepia: 0)\n",
            "Processed: sepia_JellyFish (345).jpg (Sepia: 1)\n",
            "Processed: not_sepia_JellyFish (334).jpg (Sepia: 0)\n",
            "Processed: sepia_5986817034_d1396a540c_o.jpg (Sepia: 1)\n",
            "Processed: sepia_JellyFish (295).jpg (Sepia: 1)\n",
            "Processed: not_sepia_505989681_5cc516e74a_o.jpg (Sepia: 0)\n",
            "Processed: sepia_5237064611_a78cac5911_o.jpg (Sepia: 1)\n",
            "Processed: sepia_5441935447_a41cc2e0f1_o.jpg (Sepia: 1)\n",
            "Processed: not_sepia_JellyFish (291).jpg (Sepia: 0)\n",
            "Processed: not_sepia_JellyFish (79).jpg (Sepia: 0)\n",
            "Processed: not_sepia_JellyFish (312).jpg (Sepia: 0)\n",
            "Processed: not_sepia_JellyFish (330).jpg (Sepia: 0)\n",
            "Processed: not_sepia_JellyFish (50).jpg (Sepia: 0)\n",
            "Processed: sepia_JellyFish (349).jpg (Sepia: 1)\n",
            "Processed: sepia_5388445919_8ca10cd0e7_o.jpg (Sepia: 1)\n",
            "Processed: not_sepia_JellyFish (355).jpg (Sepia: 0)\n",
            "Processed: not_sepia_5611905581_d92c9f5c7d_o.jpg (Sepia: 0)\n",
            "Processed: not_sepia_JellyFish (56).jpg (Sepia: 0)\n",
            "Processed: not_sepia_5476853019_43680b9fa1_o.jpg (Sepia: 0)\n",
            "Processed: sepia_JellyFish (344).jpg (Sepia: 1)\n",
            "Processed: not_sepia_6040688109_0c46b8fe8a_o.jpg (Sepia: 0)\n",
            "Processed: sepia_JellyFish (41).jpg (Sepia: 1)\n",
            "Processed: not_sepia_6291422862_90407bcbe7_o.jpg (Sepia: 0)\n",
            "Processed: sepia_5900037300_1801f32b0a_o.jpg (Sepia: 1)\n",
            "Processed: sepia_JellyFish (36).jpg (Sepia: 1)\n",
            "Processed: not_sepia_JellyFish (300).jpg (Sepia: 0)\n",
            "Processed: sepia_5341612582_438dc8b1bb_b.jpg (Sepia: 1)\n",
            "Processed: sepia_5942208130_c86e67663e_o.jpg (Sepia: 1)\n",
            "Processed: not_sepia_4853000399_3ab09fbc86_o.jpg (Sepia: 0)\n",
            "Processed: not_sepia_JellyFish (66).jpg (Sepia: 0)\n",
            "Processed: sepia_JellyFish (316).jpg (Sepia: 1)\n",
            "Processed: not_sepia_JellyFish (38).jpg (Sepia: 0)\n",
            "Processed: sepia_810882123_f2d554d256_o.jpg (Sepia: 1)\n",
            "Processed: not_sepia_JellyFish (340).jpg (Sepia: 0)\n",
            "Processed: sepia_6269418551_05c5dff94a_o.jpg (Sepia: 1)\n",
            "Processed: sepia_JellyFish (34).jpg (Sepia: 1)\n",
            "Processed: sepia_6284534203_c766053af8_o.jpg (Sepia: 1)\n",
            "Processed: sepia_JellyFish (301).jpg (Sepia: 1)\n",
            "Processed: not_sepia_JellyFish (96).jpg (Sepia: 0)\n",
            "Processed: not_sepia_JellyFish (94).jpg (Sepia: 0)\n",
            "Processed: sepia_JellyFish (311).jpg (Sepia: 1)\n",
            "Processed: not_sepia_JellyFish (53).jpg (Sepia: 0)\n",
            "Processed: sepia_6233804098_5a0de831a6_o.jpg (Sepia: 1)\n",
            "Processed: not_sepia_JellyFish (74).jpg (Sepia: 0)\n",
            "Processed: sepia_JellyFish (333).jpg (Sepia: 1)\n",
            "Processed: not_sepia_4732903018_a46af24471_b.jpg (Sepia: 0)\n",
            "Processed: sepia_5832742421_cdbfa39802_b.jpg (Sepia: 1)\n",
            "Processed: sepia_JellyFish (336).jpg (Sepia: 1)\n",
            "Processed: sepia_JellyFish (328).jpg (Sepia: 1)\n",
            "Processed: not_sepia_JellyFish (87).jpg (Sepia: 0)\n",
            "Processed: sepia_5756262862_a102365ba0_b.jpg (Sepia: 1)\n",
            "Processed: not_sepia_JellyFish (3).jpg (Sepia: 0)\n",
            "Processed: sepia_JellyFish (85).jpg (Sepia: 1)\n",
            "Processed: not_sepia_JellyFish (93).jpg (Sepia: 0)\n",
            "Processed: sepia_JellyFish (331).jpg (Sepia: 1)\n",
            "Processed: not_sepia_JellyFish (356).jpg (Sepia: 0)\n",
            "Processed: not_sepia_JellyFish (296).jpg (Sepia: 0)\n",
            "Processed: not_sepia_JellyFish (348).jpg (Sepia: 0)\n",
            "Processed: not_sepia_JellyFish (80).jpg (Sepia: 0)\n",
            "Processed: sepia_JellyFish (59).jpg (Sepia: 1)\n",
            "Processed: not_sepia_JellyFish (90).jpg (Sepia: 0)\n",
            "Processed: not_sepia_JellyFish (339).jpg (Sepia: 0)\n",
            "Processed: not_sepia_5468534186_032ab4f37f_o.jpg (Sepia: 0)\n",
            "Processed: sepia_5340007226_fba0bdf574_o.jpg (Sepia: 1)\n",
            "Processed: sepia_JellyFish (55).jpg (Sepia: 1)\n",
            "Processed: not_sepia_6476043427_eb44373b21_b.jpg (Sepia: 0)\n",
            "Processed: sepia_JellyFish (352).jpg (Sepia: 1)\n",
            "Processed: sepia_5202351228_a95151bc7a_o.jpg (Sepia: 1)\n",
            "Processed: not_sepia_6604391551_d0331ba419_b.jpg (Sepia: 0)\n",
            "Processed: sepia_JellyFish (306).jpg (Sepia: 1)\n",
            "Processed: not_sepia_5503639047_9517007b28_b.jpg (Sepia: 0)\n",
            "Processed: not_sepia_JellyFish (68).jpg (Sepia: 0)\n",
            "Processed: not_sepia_JellyFish (358).jpg (Sepia: 0)\n",
            "Processed: not_sepia_JellyFish (47).jpg (Sepia: 0)\n",
            "Processed: sepia_6092115293_e46e300aea_b.jpg (Sepia: 1)\n",
            "Processed: not_sepia_5293105678_f98d5e6019_o.jpg (Sepia: 0)\n",
            "Processed: sepia_JellyFish (57).jpg (Sepia: 1)\n",
            "Processed: not_sepia_5681323920_caf729b4d0_o.jpg (Sepia: 0)\n",
            "Processed: sepia_JellyFish (346).jpg (Sepia: 1)\n",
            "Processed: not_sepia_JellyFish (347).jpg (Sepia: 0)\n",
            "Processed: sepia_JellyFish (97).jpg (Sepia: 1)\n",
            "Processed: not_sepia_JellyFish (298).jpg (Sepia: 0)\n",
            "Processed: sepia_JellyFish (70).jpg (Sepia: 1)\n",
            "Processed: not_sepia_JellyFish (71).jpg (Sepia: 0)\n",
            "Processed: sepia_JellyFish (43).jpg (Sepia: 1)\n",
            "Processed: not_sepia_JellyFish (342).jpg (Sepia: 0)\n",
            "Processed: sepia_6291077225_51c7272ff4_o.jpg (Sepia: 1)\n",
            "Processed: not_sepia_JellyFish (99).jpg (Sepia: 0)\n",
            "Processed: not_sepia_JellyFish (307).jpg (Sepia: 0)\n",
            "Processed: sepia_JellyFish (40).jpg (Sepia: 1)\n",
            "Processed: sepia_JellyFish (322).jpg (Sepia: 1)\n",
            "Processed: sepia_JellyFish (324).jpg (Sepia: 1)\n",
            "Processed: not_sepia_6277401331_c3fde86648_o.jpg (Sepia: 0)\n",
            "Processed: sepia_JellyFish (317).jpg (Sepia: 1)\n",
            "Processed: not_sepia_JellyFish (58).jpg (Sepia: 0)\n",
            "Processed: not_sepia_JellyFish (72).jpg (Sepia: 0)\n",
            "Processed: not_sepia_5945040604_6dc7ce96e6_o.jpg (Sepia: 0)\n",
            "Processed: not_sepia_4676535103_b21b360f1f_o.jpg (Sepia: 0)\n",
            "Processed: sepia_JellyFish (44).jpg (Sepia: 1)\n",
            "Processed: not_sepia_JellyFish (83).jpg (Sepia: 0)\n",
            "Processed: sepia_JellyFish (63).jpg (Sepia: 1)\n",
            "Processed: sepia_6306589697_e2198891d9_o.jpg (Sepia: 1)\n",
            "Processed: not_sepia_JellyFish (88).jpg (Sepia: 0)\n",
            "Processed: not_sepia_6134055289_22fc797f22_b.jpg (Sepia: 0)\n",
            "Processed: not_sepia_JellyFish (49).jpg (Sepia: 0)\n",
            "Processed: sepia_JellyFish (313).jpg (Sepia: 1)\n",
            "Processed: not_sepia_JellyFish (6).jpg (Sepia: 0)\n",
            "\n",
            "Data saved to /content/drive/MyDrive/imagini3/image_labels3.csv\n",
            "                                           file_path  is_sepia\n",
            "0  /content/drive/MyDrive/imagini3/sepia_JellyFis...         1\n",
            "1  /content/drive/MyDrive/imagini3/not_sepia_Jell...         0\n",
            "2  /content/drive/MyDrive/imagini3/sepia_62907740...         1\n",
            "3  /content/drive/MyDrive/imagini3/not_sepia_5616...         0\n",
            "4  /content/drive/MyDrive/imagini3/sepia_JellyFis...         1\n"
          ]
        }
      ]
    },
    {
      "cell_type": "code",
      "source": [
        "from IPython.display import Image as IPImage, display\n",
        "\n",
        "sample_df = pd.read_csv(os.path.join(output_dir, 'image_labels3.csv')).sample(6)\n",
        "for _, row in sample_df.iterrows():\n",
        "    display(IPImage(filename=row['file_path']))\n",
        "    print(f\"Sepia: {row['is_sepia']}\\n\")"
      ],
      "metadata": {
        "colab": {
          "base_uri": "https://localhost:8080/",
          "height": 1000
        },
        "id": "2Nf10QvWQLWG",
        "outputId": "c4f31833-4105-435b-b851-54b0a881a210"
      },
      "execution_count": 146,
      "outputs": [
        {
          "output_type": "display_data",
          "data": {
            "image/jpeg": "[encoded data removed]",
            "text/plain": [
              "<IPython.core.display.Image object>"
            ]
          },
          "metadata": {}
        },
        {
          "output_type": "stream",
          "name": "stdout",
          "text": [
            "Sepia: 0\n",
            "\n"
          ]
        },
        {
          "output_type": "display_data",
          "data": {
            "image/jpeg": "[encoded data removed]",
            "text/plain": [
              "<IPython.core.display.Image object>"
            ]
          },
          "metadata": {}
        },
        {
          "output_type": "stream",
          "name": "stdout",
          "text": [
            "Sepia: 1\n",
            "\n"
          ]
        },
        {
          "output_type": "display_data",
          "data": {
            "image/jpeg": "[encoded data removed]",
            "text/plain": [
              "<IPython.core.display.Image object>"
            ]
          },
          "metadata": {}
        },
        {
          "output_type": "stream",
          "name": "stdout",
          "text": [
            "Sepia: 1\n",
            "\n"
          ]
        },
        {
          "output_type": "display_data",
          "data": {
            "image/jpeg": "[encoded data removed]",
            "text/plain": [
              "<IPython.core.display.Image object>"
            ]
          },
          "metadata": {}
        },
        {
          "output_type": "stream",
          "name": "stdout",
          "text": [
            "Sepia: 0\n",
            "\n"
          ]
        },
        {
          "output_type": "display_data",
          "data": {
            "image/jpeg": "[encoded data removed]",
            "text/plain": [
              "<IPython.core.display.Image object>"
            ]
          },
          "metadata": {}
        },
        {
          "output_type": "stream",
          "name": "stdout",
          "text": [
            "Sepia: 0\n",
            "\n"
          ]
        },
        {
          "output_type": "display_data",
          "data": {
            "image/jpeg": "[encoded data removed]",
            "text/plain": [
              "<IPython.core.display.Image object>"
            ]
          },
          "metadata": {}
        },
        {
          "output_type": "stream",
          "name": "stdout",
          "text": [
            "Sepia: 1\n",
            "\n"
          ]
        }
      ]
    },
    {
      "cell_type": "markdown",
      "source": [
        "# Folosire ANN (tool) pentru a detecta pozele cu sepia si fara\n"
      ],
      "metadata": {
        "id": "j9ExeevehuXT"
      }
    },
    {
      "cell_type": "code",
      "source": [
        "from sklearn.model_selection import train_test_split\n",
        "from tensorflow.keras.models import Sequential\n",
        "from tensorflow.keras.layers import Dense, Flatten\n",
        "from tensorflow.keras.utils import to_categorical"
      ],
      "metadata": {
        "id": "D-T0TjAeh63H"
      },
      "execution_count": 127,
      "outputs": []
    },
    {
      "cell_type": "code",
      "source": [
        "def load_and_preprocess_data(csv_path, img_size=(64,64)):\n",
        "    df = pd.read_csv(csv_path)\n",
        "    images = []\n",
        "    labels = []\n",
        "\n",
        "    for idx, row in df.iterrows():\n",
        "        img = Image.open(row['file_path']).resize(img_size).convert('L')\n",
        "        images.append(np.array(img)/255.0)\n",
        "        labels.append(row['is_sepia'])\n",
        "\n",
        "    return np.array(images), np.array(labels)\n",
        "\n",
        "X, y = load_and_preprocess_data('/content/drive/MyDrive/imagini3/image_labels3.csv')\n",
        "X = X.reshape(-1, 64*64)\n",
        "y = to_categorical(y)\n",
        "\n",
        "X_train, X_test, y_train, y_test = train_test_split(X, y, test_size=0.2, random_state=42)"
      ],
      "metadata": {
        "id": "hxs7mIuNh2wG"
      },
      "execution_count": 128,
      "outputs": []
    },
    {
      "cell_type": "code",
      "source": [
        "model = Sequential([\n",
        "    Dense(128, activation='relu', input_shape=(64*64,)),\n",
        "    Dense(64, activation='relu'),\n",
        "    Dense(2, activation='softmax')\n",
        "])\n",
        "\n",
        "model.compile(optimizer='adam',\n",
        "              loss='categorical_crossentropy',\n",
        "              metrics=['accuracy'])"
      ],
      "metadata": {
        "colab": {
          "base_uri": "https://localhost:8080/"
        },
        "id": "nj88qNbfiHAL",
        "outputId": "a7b00a3d-a064-4273-e064-8591806f04e1"
      },
      "execution_count": 129,
      "outputs": [
        {
          "output_type": "stream",
          "name": "stderr",
          "text": [
            "/usr/local/lib/python3.11/dist-packages/keras/src/layers/core/dense.py:87: UserWarning: Do not pass an `input_shape`/`input_dim` argument to a layer. When using Sequential models, prefer using an `Input(shape)` object as the first layer in the model instead.\n",
            "  super().__init__(activity_regularizer=activity_regularizer, **kwargs)\n"
          ]
        }
      ]
    },
    {
      "cell_type": "code",
      "source": [
        "history = model.fit(X_train, y_train,\n",
        "                    epochs=30,\n",
        "                    batch_size=32,\n",
        "                    validation_split=0.2)"
      ],
      "metadata": {
        "colab": {
          "base_uri": "https://localhost:8080/"
        },
        "id": "USH3LbX9iP1v",
        "outputId": "5289f417-c4dd-494c-f987-112e59721cdb"
      },
      "execution_count": 130,
      "outputs": [
        {
          "output_type": "stream",
          "name": "stdout",
          "text": [
            "Epoch 1/30\n",
            "\u001b[1m4/4\u001b[0m \u001b[32m━━━━━━━━━━━━━━━━━━━━\u001b[0m\u001b[37m\u001b[0m \u001b[1m1s\u001b[0m 83ms/step - accuracy: 0.4833 - loss: 0.9967 - val_accuracy: 0.7188 - val_loss: 0.6628\n",
            "Epoch 2/30\n",
            "\u001b[1m4/4\u001b[0m \u001b[32m━━━━━━━━━━━━━━━━━━━━\u001b[0m\u001b[37m\u001b[0m \u001b[1m0s\u001b[0m 44ms/step - accuracy: 0.4990 - loss: 0.7127 - val_accuracy: 0.5938 - val_loss: 0.6756\n",
            "Epoch 3/30\n",
            "\u001b[1m4/4\u001b[0m \u001b[32m━━━━━━━━━━━━━━━━━━━━\u001b[0m\u001b[37m\u001b[0m \u001b[1m0s\u001b[0m 48ms/step - accuracy: 0.5813 - loss: 0.6539 - val_accuracy: 0.5938 - val_loss: 0.6614\n",
            "Epoch 4/30\n",
            "\u001b[1m4/4\u001b[0m \u001b[32m━━━━━━━━━━━━━━━━━━━━\u001b[0m\u001b[37m\u001b[0m \u001b[1m0s\u001b[0m 34ms/step - accuracy: 0.5448 - loss: 0.6700 - val_accuracy: 0.5938 - val_loss: 0.6611\n",
            "Epoch 5/30\n",
            "\u001b[1m4/4\u001b[0m \u001b[32m━━━━━━━━━━━━━━━━━━━━\u001b[0m\u001b[37m\u001b[0m \u001b[1m0s\u001b[0m 48ms/step - accuracy: 0.6177 - loss: 0.6293 - val_accuracy: 0.5000 - val_loss: 0.6646\n",
            "Epoch 6/30\n",
            "\u001b[1m4/4\u001b[0m \u001b[32m━━━━━━━━━━━━━━━━━━━━\u001b[0m\u001b[37m\u001b[0m \u001b[1m0s\u001b[0m 48ms/step - accuracy: 0.7010 - loss: 0.5861 - val_accuracy: 0.4688 - val_loss: 0.7359\n",
            "Epoch 7/30\n",
            "\u001b[1m4/4\u001b[0m \u001b[32m━━━━━━━━━━━━━━━━━━━━\u001b[0m\u001b[37m\u001b[0m \u001b[1m0s\u001b[0m 51ms/step - accuracy: 0.6771 - loss: 0.5889 - val_accuracy: 0.5312 - val_loss: 0.6777\n",
            "Epoch 8/30\n",
            "\u001b[1m4/4\u001b[0m \u001b[32m━━━━━━━━━━━━━━━━━━━━\u001b[0m\u001b[37m\u001b[0m \u001b[1m0s\u001b[0m 35ms/step - accuracy: 0.7490 - loss: 0.5504 - val_accuracy: 0.5625 - val_loss: 0.6837\n",
            "Epoch 9/30\n",
            "\u001b[1m4/4\u001b[0m \u001b[32m━━━━━━━━━━━━━━━━━━━━\u001b[0m\u001b[37m\u001b[0m \u001b[1m0s\u001b[0m 36ms/step - accuracy: 0.7969 - loss: 0.5279 - val_accuracy: 0.5625 - val_loss: 0.7206\n",
            "Epoch 10/30\n",
            "\u001b[1m4/4\u001b[0m \u001b[32m━━━━━━━━━━━━━━━━━━━━\u001b[0m\u001b[37m\u001b[0m \u001b[1m0s\u001b[0m 51ms/step - accuracy: 0.7490 - loss: 0.5357 - val_accuracy: 0.4375 - val_loss: 0.7257\n",
            "Epoch 11/30\n",
            "\u001b[1m4/4\u001b[0m \u001b[32m━━━━━━━━━━━━━━━━━━━━\u001b[0m\u001b[37m\u001b[0m \u001b[1m0s\u001b[0m 42ms/step - accuracy: 0.8062 - loss: 0.4775 - val_accuracy: 0.5625 - val_loss: 0.7277\n",
            "Epoch 12/30\n",
            "\u001b[1m4/4\u001b[0m \u001b[32m━━━━━━━━━━━━━━━━━━━━\u001b[0m\u001b[37m\u001b[0m \u001b[1m0s\u001b[0m 54ms/step - accuracy: 0.8375 - loss: 0.4486 - val_accuracy: 0.4688 - val_loss: 0.7485\n",
            "Epoch 13/30\n",
            "\u001b[1m4/4\u001b[0m \u001b[32m━━━━━━━━━━━━━━━━━━━━\u001b[0m\u001b[37m\u001b[0m \u001b[1m0s\u001b[0m 41ms/step - accuracy: 0.8396 - loss: 0.4363 - val_accuracy: 0.5000 - val_loss: 0.7840\n",
            "Epoch 14/30\n",
            "\u001b[1m4/4\u001b[0m \u001b[32m━━━━━━━━━━━━━━━━━━━━\u001b[0m\u001b[37m\u001b[0m \u001b[1m0s\u001b[0m 50ms/step - accuracy: 0.8823 - loss: 0.4069 - val_accuracy: 0.5938 - val_loss: 0.7560\n",
            "Epoch 15/30\n",
            "\u001b[1m4/4\u001b[0m \u001b[32m━━━━━━━━━━━━━━━━━━━━\u001b[0m\u001b[37m\u001b[0m \u001b[1m0s\u001b[0m 25ms/step - accuracy: 0.8240 - loss: 0.4377 - val_accuracy: 0.5000 - val_loss: 0.7775\n",
            "Epoch 16/30\n",
            "\u001b[1m4/4\u001b[0m \u001b[32m━━━━━━━━━━━━━━━━━━━━\u001b[0m\u001b[37m\u001b[0m \u001b[1m0s\u001b[0m 25ms/step - accuracy: 0.8531 - loss: 0.3887 - val_accuracy: 0.4688 - val_loss: 0.8224\n",
            "Epoch 17/30\n",
            "\u001b[1m4/4\u001b[0m \u001b[32m━━━━━━━━━━━━━━━━━━━━\u001b[0m\u001b[37m\u001b[0m \u001b[1m0s\u001b[0m 25ms/step - accuracy: 0.8396 - loss: 0.4057 - val_accuracy: 0.5000 - val_loss: 0.8550\n",
            "Epoch 18/30\n",
            "\u001b[1m4/4\u001b[0m \u001b[32m━━━━━━━━━━━━━━━━━━━━\u001b[0m\u001b[37m\u001b[0m \u001b[1m0s\u001b[0m 26ms/step - accuracy: 0.8719 - loss: 0.3345 - val_accuracy: 0.5938 - val_loss: 0.8089\n",
            "Epoch 19/30\n",
            "\u001b[1m4/4\u001b[0m \u001b[32m━━━━━━━━━━━━━━━━━━━━\u001b[0m\u001b[37m\u001b[0m \u001b[1m0s\u001b[0m 26ms/step - accuracy: 0.8260 - loss: 0.3899 - val_accuracy: 0.5000 - val_loss: 0.8193\n",
            "Epoch 20/30\n",
            "\u001b[1m4/4\u001b[0m \u001b[32m━━━━━━━━━━━━━━━━━━━━\u001b[0m\u001b[37m\u001b[0m \u001b[1m0s\u001b[0m 29ms/step - accuracy: 0.8552 - loss: 0.4359 - val_accuracy: 0.4688 - val_loss: 1.1404\n",
            "Epoch 21/30\n",
            "\u001b[1m4/4\u001b[0m \u001b[32m━━━━━━━━━━━━━━━━━━━━\u001b[0m\u001b[37m\u001b[0m \u001b[1m0s\u001b[0m 25ms/step - accuracy: 0.7937 - loss: 0.4819 - val_accuracy: 0.5000 - val_loss: 0.9941\n",
            "Epoch 22/30\n",
            "\u001b[1m4/4\u001b[0m \u001b[32m━━━━━━━━━━━━━━━━━━━━\u001b[0m\u001b[37m\u001b[0m \u001b[1m0s\u001b[0m 25ms/step - accuracy: 0.6906 - loss: 0.5111 - val_accuracy: 0.4688 - val_loss: 1.3602\n",
            "Epoch 23/30\n",
            "\u001b[1m4/4\u001b[0m \u001b[32m━━━━━━━━━━━━━━━━━━━━\u001b[0m\u001b[37m\u001b[0m \u001b[1m0s\u001b[0m 28ms/step - accuracy: 0.7594 - loss: 0.5617 - val_accuracy: 0.4688 - val_loss: 0.9848\n",
            "Epoch 24/30\n",
            "\u001b[1m4/4\u001b[0m \u001b[32m━━━━━━━━━━━━━━━━━━━━\u001b[0m\u001b[37m\u001b[0m \u001b[1m0s\u001b[0m 26ms/step - accuracy: 0.7104 - loss: 0.5316 - val_accuracy: 0.4688 - val_loss: 0.9786\n",
            "Epoch 25/30\n",
            "\u001b[1m4/4\u001b[0m \u001b[32m━━━━━━━━━━━━━━━━━━━━\u001b[0m\u001b[37m\u001b[0m \u001b[1m0s\u001b[0m 25ms/step - accuracy: 0.8333 - loss: 0.3832 - val_accuracy: 0.5625 - val_loss: 0.8762\n",
            "Epoch 26/30\n",
            "\u001b[1m4/4\u001b[0m \u001b[32m━━━━━━━━━━━━━━━━━━━━\u001b[0m\u001b[37m\u001b[0m \u001b[1m0s\u001b[0m 24ms/step - accuracy: 0.8708 - loss: 0.3346 - val_accuracy: 0.5312 - val_loss: 0.8514\n",
            "Epoch 27/30\n",
            "\u001b[1m4/4\u001b[0m \u001b[32m━━━━━━━━━━━━━━━━━━━━\u001b[0m\u001b[37m\u001b[0m \u001b[1m0s\u001b[0m 25ms/step - accuracy: 0.9448 - loss: 0.2445 - val_accuracy: 0.6250 - val_loss: 0.8285\n",
            "Epoch 28/30\n",
            "\u001b[1m4/4\u001b[0m \u001b[32m━━━━━━━━━━━━━━━━━━━━\u001b[0m\u001b[37m\u001b[0m \u001b[1m0s\u001b[0m 26ms/step - accuracy: 0.9271 - loss: 0.2561 - val_accuracy: 0.5312 - val_loss: 0.8902\n",
            "Epoch 29/30\n",
            "\u001b[1m4/4\u001b[0m \u001b[32m━━━━━━━━━━━━━━━━━━━━\u001b[0m\u001b[37m\u001b[0m \u001b[1m0s\u001b[0m 25ms/step - accuracy: 0.9312 - loss: 0.2162 - val_accuracy: 0.5000 - val_loss: 0.8763\n",
            "Epoch 30/30\n",
            "\u001b[1m4/4\u001b[0m \u001b[32m━━━━━━━━━━━━━━━━━━━━\u001b[0m\u001b[37m\u001b[0m \u001b[1m0s\u001b[0m 25ms/step - accuracy: 0.9344 - loss: 0.2191 - val_accuracy: 0.5312 - val_loss: 0.9296\n"
          ]
        }
      ]
    },
    {
      "cell_type": "code",
      "source": [
        "loss, accuracy = model.evaluate(X_test, y_test)\n",
        "print(f\"\\nAcuratețe pe datele de test: {accuracy*100:.2f}%\")\n",
        "\n",
        "from sklearn.metrics import confusion_matrix\n",
        "y_pred = np.argmax(model.predict(X_test), axis=1)\n",
        "y_true = np.argmax(y_test, axis=1)"
      ],
      "metadata": {
        "colab": {
          "base_uri": "https://localhost:8080/"
        },
        "id": "Rn4kLfoyiYQF",
        "outputId": "3a1cf27a-e851-47fb-ad8b-fe338019ee33"
      },
      "execution_count": 106,
      "outputs": [
        {
          "output_type": "stream",
          "name": "stdout",
          "text": [
            "\u001b[1m2/2\u001b[0m \u001b[32m━━━━━━━━━━━━━━━━━━━━\u001b[0m\u001b[37m\u001b[0m \u001b[1m0s\u001b[0m 21ms/step - accuracy: 0.4354 - loss: 1.7300\n",
            "\n",
            "Acuratețe pe datele de test: 45.00%\n",
            "\u001b[1m2/2\u001b[0m \u001b[32m━━━━━━━━━━━━━━━━━━━━\u001b[0m\u001b[37m\u001b[0m \u001b[1m0s\u001b[0m 21ms/step\n"
          ]
        }
      ]
    },
    {
      "cell_type": "code",
      "source": [
        "import matplotlib.pyplot as plt\n",
        "\n",
        "plt.plot(history.history['accuracy'], label='Train Accuracy')\n",
        "plt.plot(history.history['val_accuracy'], label='Validation Accuracy')\n",
        "plt.title('Evoluția acurateței')\n",
        "plt.legend()\n",
        "plt.show()"
      ],
      "metadata": {
        "colab": {
          "base_uri": "https://localhost:8080/",
          "height": 452
        },
        "id": "EA073nhWiefI",
        "outputId": "b347ab3d-b9fc-411c-f649-b9228ec82b49"
      },
      "execution_count": 131,
      "outputs": [
        {
          "output_type": "display_data",
          "data": {
            "text/plain": [
              "<Figure size 640x480 with 1 Axes>"
            ],
            "image/png": "[encoded data removed]"
          },
          "metadata": {}
        }
      ]
    },
    {
      "cell_type": "markdown",
      "source": [
        "# Influenta (hyper)parametriilor\n"
      ],
      "metadata": {
        "id": "OYy-WeN7l8Fo"
      }
    },
    {
      "cell_type": "code",
      "source": [
        "import tensorflow as tf\n",
        "from tensorflow.keras.optimizers import Adam\n",
        "from tensorflow.keras.callbacks import EarlyStopping\n",
        "import matplotlib.pyplot as plt\n",
        "import numpy as np\n",
        "import pandas as pd\n",
        "import seaborn as sns"
      ],
      "metadata": {
        "id": "rF_8z7JNmG0-"
      },
      "execution_count": 132,
      "outputs": []
    },
    {
      "cell_type": "code",
      "source": [
        "import tensorflow as tf\n",
        "from tensorflow.keras.models import Sequential\n",
        "from tensorflow.keras.layers import Dense, Dropout, Flatten\n",
        "from tensorflow.keras.regularizers import l2\n",
        "from tensorflow.keras.optimizers import Adam\n",
        "from tensorflow.keras.callbacks import EarlyStopping\n",
        "\n",
        "import numpy as np\n",
        "\n",
        "def build_model(params):\n",
        "    model = Sequential()\n",
        "    model.add(Dense(params['architecture']['units'], input_shape=(4096,), activation=params['activation']))\n",
        "\n",
        "    reg = params['regularization']\n",
        "\n",
        "    for _ in range(params['architecture']['hidden_layers']):\n",
        "        layer_config = {\n",
        "            'units': params['architecture']['units'],\n",
        "            'activation': params['activation']\n",
        "        }\n",
        "\n",
        "        if reg['type'] == 'l2':\n",
        "            layer_config['kernel_regularizer'] = l2(reg['value'])\n",
        "\n",
        "        model.add(Dense(**layer_config))\n",
        "\n",
        "        if reg['type'] == 'dropout':\n",
        "            model.add(Dropout(reg['value']))\n",
        "\n",
        "    model.add(Dense(2, activation='softmax'))\n",
        "\n",
        "    model.compile(\n",
        "        optimizer=Adam(learning_rate=params.get('learning_rate', 0.001)),\n",
        "        loss='categorical_crossentropy',\n",
        "        metrics=['accuracy']\n",
        "    )\n",
        "\n",
        "    return model\n",
        "\n",
        "def train_and_evaluate(configs, X_train, y_train, X_test, y_test):\n",
        "    results = []\n",
        "\n",
        "    for config in configs:\n",
        "        print(f\"\\n{'='*50}\\nTestăm configurația: {config}\\n{'='*50}\")\n",
        "\n",
        "        model = build_model({\n",
        "            'architecture': config['architecture'],\n",
        "            'activation': config['activation'],\n",
        "            'regularization': config['regularization'],\n",
        "            'learning_rate': config['learning_rate']\n",
        "        })\n",
        "\n",
        "        history = model.fit(\n",
        "            X_train, y_train,\n",
        "            validation_data=(X_test, y_test),\n",
        "            epochs=50,\n",
        "            batch_size=config['batch_size'],\n",
        "            callbacks=[EarlyStopping(monitor='val_loss', patience=3, restore_best_weights=True)],\n",
        "            verbose=1\n",
        "        )\n",
        "\n",
        "        test_loss, test_acc = model.evaluate(X_test, y_test, verbose=0)\n",
        "\n",
        "        results.append({\n",
        "            **config,\n",
        "            'test_accuracy': test_acc,\n",
        "            'test_loss': test_loss,\n",
        "            'best_val_accuracy': max(history.history['val_accuracy']),\n",
        "            'epochs': len(history.history['loss']),\n",
        "            'history': history.history\n",
        "        })\n",
        "\n",
        "        print(f\"Acuratețe pe validare: {results[-1]['best_val_accuracy']:.4f}\")\n",
        "        print(f\"Acuratețe pe test: {test_acc:.4f}\")\n",
        "\n",
        "    return results\n",
        "\n",
        "hyperparam_configs = [\n",
        "    {\n",
        "        'architecture': {'hidden_layers': 1, 'units': 64},\n",
        "        'activation': 'relu',\n",
        "        'regularization': {'type': 'l2', 'value': 0.01},\n",
        "        'learning_rate': 0.001,\n",
        "        'batch_size': 32\n",
        "    },\n",
        "    {\n",
        "        'architecture': {'hidden_layers': 2, 'units': 128},\n",
        "        'activation': 'tanh',\n",
        "        'regularization': {'type': 'dropout', 'value': 0.3},\n",
        "        'learning_rate': 0.0001,\n",
        "        'batch_size': 64\n",
        "    }\n",
        "]\n",
        "results = train_and_evaluate(hyperparam_configs, X_train, y_train, X_test, y_test)\n",
        "\n",
        "for i, res in enumerate(results):\n",
        "    print(f\"\\nConfig {i+1}:\")\n",
        "    print(f\"Acuratețe test: {res['test_accuracy']:.4f}\")\n",
        "    print(f\"Parametri: {res}\")"
      ],
      "metadata": {
        "id": "WurYuInLm4rd",
        "colab": {
          "base_uri": "https://localhost:8080/"
        },
        "outputId": "33f375d1-b94a-4e2c-9ffd-fdc484289b71"
      },
      "execution_count": 133,
      "outputs": [
        {
          "output_type": "stream",
          "name": "stdout",
          "text": [
            "\n",
            "==================================================\n",
            "Testăm configurația: {'architecture': {'hidden_layers': 1, 'units': 64}, 'activation': 'relu', 'regularization': {'type': 'l2', 'value': 0.01}, 'learning_rate': 0.001, 'batch_size': 32}\n",
            "==================================================\n",
            "Epoch 1/50\n",
            "\u001b[1m5/5\u001b[0m \u001b[32m━━━━━━━━━━━━━━━━━━━━\u001b[0m\u001b[37m\u001b[0m \u001b[1m1s\u001b[0m 71ms/step - accuracy: 0.4429 - loss: 1.4443 - val_accuracy: 0.4750 - val_loss: 1.2909\n",
            "Epoch 2/50\n",
            "\u001b[1m5/5\u001b[0m \u001b[32m━━━━━━━━━━━━━━━━━━━━\u001b[0m\u001b[37m\u001b[0m \u001b[1m0s\u001b[0m 21ms/step - accuracy: 0.5457 - loss: 1.3100 - val_accuracy: 0.4500 - val_loss: 1.4403\n",
            "Epoch 3/50\n",
            "\u001b[1m5/5\u001b[0m \u001b[32m━━━━━━━━━━━━━━━━━━━━\u001b[0m\u001b[37m\u001b[0m \u001b[1m0s\u001b[0m 21ms/step - accuracy: 0.5806 - loss: 1.2524 - val_accuracy: 0.4750 - val_loss: 1.2525\n",
            "Epoch 4/50\n",
            "\u001b[1m5/5\u001b[0m \u001b[32m━━━━━━━━━━━━━━━━━━━━\u001b[0m\u001b[37m\u001b[0m \u001b[1m0s\u001b[0m 19ms/step - accuracy: 0.5871 - loss: 1.2311 - val_accuracy: 0.4000 - val_loss: 1.3069\n",
            "Epoch 5/50\n",
            "\u001b[1m5/5\u001b[0m \u001b[32m━━━━━━━━━━━━━━━━━━━━\u001b[0m\u001b[37m\u001b[0m \u001b[1m0s\u001b[0m 19ms/step - accuracy: 0.6230 - loss: 1.1943 - val_accuracy: 0.5000 - val_loss: 1.1780\n",
            "Epoch 6/50\n",
            "\u001b[1m5/5\u001b[0m \u001b[32m━━━━━━━━━━━━━━━━━━━━\u001b[0m\u001b[37m\u001b[0m \u001b[1m0s\u001b[0m 19ms/step - accuracy: 0.6030 - loss: 1.1440 - val_accuracy: 0.3750 - val_loss: 1.2800\n",
            "Epoch 7/50\n",
            "\u001b[1m5/5\u001b[0m \u001b[32m━━━━━━━━━━━━━━━━━━━━\u001b[0m\u001b[37m\u001b[0m \u001b[1m0s\u001b[0m 21ms/step - accuracy: 0.6345 - loss: 1.1241 - val_accuracy: 0.4500 - val_loss: 1.1775\n",
            "Epoch 8/50\n",
            "\u001b[1m5/5\u001b[0m \u001b[32m━━━━━━━━━━━━━━━━━━━━\u001b[0m\u001b[37m\u001b[0m \u001b[1m0s\u001b[0m 20ms/step - accuracy: 0.6465 - loss: 1.0726 - val_accuracy: 0.3500 - val_loss: 1.2110\n",
            "Epoch 9/50\n",
            "\u001b[1m5/5\u001b[0m \u001b[32m━━━━━━━━━━━━━━━━━━━━\u001b[0m\u001b[37m\u001b[0m \u001b[1m0s\u001b[0m 19ms/step - accuracy: 0.6841 - loss: 1.0632 - val_accuracy: 0.4000 - val_loss: 1.1437\n",
            "Epoch 10/50\n",
            "\u001b[1m5/5\u001b[0m \u001b[32m━━━━━━━━━━━━━━━━━━━━\u001b[0m\u001b[37m\u001b[0m \u001b[1m0s\u001b[0m 19ms/step - accuracy: 0.6616 - loss: 1.0147 - val_accuracy: 0.4000 - val_loss: 1.1714\n",
            "Epoch 11/50\n",
            "\u001b[1m5/5\u001b[0m \u001b[32m━━━━━━━━━━━━━━━━━━━━\u001b[0m\u001b[37m\u001b[0m \u001b[1m0s\u001b[0m 21ms/step - accuracy: 0.7393 - loss: 0.9906 - val_accuracy: 0.4500 - val_loss: 1.1348\n",
            "Epoch 12/50\n",
            "\u001b[1m5/5\u001b[0m \u001b[32m━━━━━━━━━━━━━━━━━━━━\u001b[0m\u001b[37m\u001b[0m \u001b[1m0s\u001b[0m 20ms/step - accuracy: 0.6878 - loss: 0.9350 - val_accuracy: 0.4000 - val_loss: 1.1520\n",
            "Epoch 13/50\n",
            "\u001b[1m5/5\u001b[0m \u001b[32m━━━━━━━━━━━━━━━━━━━━\u001b[0m\u001b[37m\u001b[0m \u001b[1m0s\u001b[0m 19ms/step - accuracy: 0.7859 - loss: 0.9000 - val_accuracy: 0.4500 - val_loss: 1.1504\n",
            "Epoch 14/50\n",
            "\u001b[1m5/5\u001b[0m \u001b[32m━━━━━━━━━━━━━━━━━━━━\u001b[0m\u001b[37m\u001b[0m \u001b[1m0s\u001b[0m 19ms/step - accuracy: 0.7466 - loss: 0.8988 - val_accuracy: 0.4750 - val_loss: 1.1380\n",
            "Acuratețe pe validare: 0.5000\n",
            "Acuratețe pe test: 0.4500\n",
            "\n",
            "==================================================\n",
            "Testăm configurația: {'architecture': {'hidden_layers': 2, 'units': 128}, 'activation': 'tanh', 'regularization': {'type': 'dropout', 'value': 0.3}, 'learning_rate': 0.0001, 'batch_size': 64}\n",
            "==================================================\n",
            "Epoch 1/50\n",
            "\u001b[1m3/3\u001b[0m \u001b[32m━━━━━━━━━━━━━━━━━━━━\u001b[0m\u001b[37m\u001b[0m \u001b[1m2s\u001b[0m 147ms/step - accuracy: 0.5746 - loss: 0.7400 - val_accuracy: 0.4500 - val_loss: 0.7296\n",
            "Epoch 2/50\n",
            "\u001b[1m3/3\u001b[0m \u001b[32m━━━━━━━━━━━━━━━━━━━━\u001b[0m\u001b[37m\u001b[0m \u001b[1m0s\u001b[0m 39ms/step - accuracy: 0.5297 - loss: 0.7534 - val_accuracy: 0.4250 - val_loss: 0.8234\n",
            "Epoch 3/50\n",
            "\u001b[1m3/3\u001b[0m \u001b[32m━━━━━━━━━━━━━━━━━━━━\u001b[0m\u001b[37m\u001b[0m \u001b[1m0s\u001b[0m 46ms/step - accuracy: 0.6008 - loss: 0.6892 - val_accuracy: 0.4500 - val_loss: 0.7244\n",
            "Epoch 4/50\n",
            "\u001b[1m3/3\u001b[0m \u001b[32m━━━━━━━━━━━━━━━━━━━━\u001b[0m\u001b[37m\u001b[0m \u001b[1m0s\u001b[0m 40ms/step - accuracy: 0.5422 - loss: 0.6853 - val_accuracy: 0.4750 - val_loss: 0.7222\n",
            "Epoch 5/50\n",
            "\u001b[1m3/3\u001b[0m \u001b[32m━━━━━━━━━━━━━━━━━━━━\u001b[0m\u001b[37m\u001b[0m \u001b[1m0s\u001b[0m 38ms/step - accuracy: 0.5797 - loss: 0.6979 - val_accuracy: 0.3750 - val_loss: 0.7501\n",
            "Epoch 6/50\n",
            "\u001b[1m3/3\u001b[0m \u001b[32m━━━━━━━━━━━━━━━━━━━━\u001b[0m\u001b[37m\u001b[0m \u001b[1m0s\u001b[0m 41ms/step - accuracy: 0.5813 - loss: 0.6372 - val_accuracy: 0.4000 - val_loss: 0.8171\n",
            "Epoch 7/50\n",
            "\u001b[1m3/3\u001b[0m \u001b[32m━━━━━━━━━━━━━━━━━━━━\u001b[0m\u001b[37m\u001b[0m \u001b[1m0s\u001b[0m 40ms/step - accuracy: 0.5688 - loss: 0.6867 - val_accuracy: 0.3750 - val_loss: 0.7781\n",
            "Acuratețe pe validare: 0.4750\n",
            "Acuratețe pe test: 0.4750\n",
            "\n",
            "Config 1:\n",
            "Acuratețe test: 0.4500\n",
            "Parametri: {'architecture': {'hidden_layers': 1, 'units': 64}, 'activation': 'relu', 'regularization': {'type': 'l2', 'value': 0.01}, 'learning_rate': 0.001, 'batch_size': 32, 'test_accuracy': 0.44999998807907104, 'test_loss': 1.134751558303833, 'best_val_accuracy': 0.5, 'epochs': 14, 'history': {'accuracy': [0.45625001192092896, 0.550000011920929, 0.574999988079071, 0.574999988079071, 0.581250011920929, 0.612500011920929, 0.6625000238418579, 0.637499988079071, 0.6812499761581421, 0.612500011920929, 0.737500011920929, 0.699999988079071, 0.7875000238418579, 0.7749999761581421], 'loss': [1.438244104385376, 1.3102833032608032, 1.2647758722305298, 1.254219651222229, 1.1935371160507202, 1.14478600025177, 1.1085047721862793, 1.076549768447876, 1.0652735233306885, 1.0210926532745361, 0.9863606691360474, 0.9441542625427246, 0.90179044008255, 0.870450496673584], 'val_accuracy': [0.4749999940395355, 0.44999998807907104, 0.4749999940395355, 0.4000000059604645, 0.5, 0.375, 0.44999998807907104, 0.3499999940395355, 0.4000000059604645, 0.4000000059604645, 0.44999998807907104, 0.4000000059604645, 0.44999998807907104, 0.4749999940395355], 'val_loss': [1.290881872177124, 1.440263032913208, 1.2525221109390259, 1.3069225549697876, 1.1779704093933105, 1.2799718379974365, 1.1775093078613281, 1.2109876871109009, 1.1436675786972046, 1.1713552474975586, 1.134751558303833, 1.1520271301269531, 1.1503894329071045, 1.1379637718200684]}}\n",
            "\n",
            "Config 2:\n",
            "Acuratețe test: 0.4750\n",
            "Parametri: {'architecture': {'hidden_layers': 2, 'units': 128}, 'activation': 'tanh', 'regularization': {'type': 'dropout', 'value': 0.3}, 'learning_rate': 0.0001, 'batch_size': 64, 'test_accuracy': 0.4749999940395355, 'test_loss': 0.7221879959106445, 'best_val_accuracy': 0.4749999940395355, 'epochs': 7, 'history': {'accuracy': [0.543749988079071, 0.543749988079071, 0.6000000238418579, 0.5375000238418579, 0.612500011920929, 0.6000000238418579, 0.574999988079071], 'loss': [0.7762483358383179, 0.7559818029403687, 0.6768085360527039, 0.6955556869506836, 0.6832179427146912, 0.6370661854743958, 0.6756526231765747], 'val_accuracy': [0.44999998807907104, 0.42500001192092896, 0.44999998807907104, 0.4749999940395355, 0.375, 0.4000000059604645, 0.375], 'val_loss': [0.7296398282051086, 0.823443591594696, 0.7244203090667725, 0.7221879959106445, 0.7500977516174316, 0.8170682191848755, 0.7781278491020203]}}\n"
          ]
        }
      ]
    },
    {
      "cell_type": "markdown",
      "source": [
        "# ANN cod propriu"
      ],
      "metadata": {
        "id": "Vuru7JR-zff-"
      }
    },
    {
      "cell_type": "code",
      "source": [
        "import pandas as pd\n",
        "import numpy as np\n",
        "from PIL import Image\n",
        "import os\n",
        "\n",
        "csv_path = \"/content/drive/MyDrive/imagini3/image_labels3.csv\"\n",
        "image_size = (64, 64)\n",
        "\n",
        "df = pd.read_csv(csv_path)\n",
        "\n",
        "X = []\n",
        "y = []\n",
        "\n",
        "for idx, row in df.iterrows():\n",
        "    path = row['file_path']\n",
        "    label = row['is_sepia']\n",
        "\n",
        "    try:\n",
        "        img = Image.open(path).convert('RGB')\n",
        "        img = img.resize(image_size)\n",
        "        img_array = np.array(img) / 255.0\n",
        "        X.append(img_array.flatten())\n",
        "        y.append(label)\n",
        "    except Exception as e:\n",
        "        print(f\"Imaginea nu a putut fi procesată: {path} ({e})\")\n",
        "\n",
        "X = np.array(X)\n",
        "y = np.array(y).reshape(-1, 1)\n",
        "\n",
        "print(f\"Formă X: {X.shape}, Formă y: {y.shape}\")"
      ],
      "metadata": {
        "id": "Q9ILeS1DzlgH",
        "colab": {
          "base_uri": "https://localhost:8080/"
        },
        "outputId": "9d2a414a-ca84-4aa5-ff48-131c14f02917"
      },
      "execution_count": 150,
      "outputs": [
        {
          "output_type": "stream",
          "name": "stdout",
          "text": [
            "Formă X: (200, 12288), Formă y: (200, 1)\n"
          ]
        }
      ]
    },
    {
      "cell_type": "code",
      "source": [
        "output_path = \"/content/drive/MyDrive/ann_dataset/dataset_sepia_64x64.npz\"\n",
        "np.savez(output_path, X=X, y=y)\n",
        "\n",
        "print(f\"Fișier salvat la: {output_path}\")\n"
      ],
      "metadata": {
        "colab": {
          "base_uri": "https://localhost:8080/"
        },
        "id": "pbeiXVDXZGvJ",
        "outputId": "c559f229-2b62-4532-8e67-0ef1421c84ad"
      },
      "execution_count": 151,
      "outputs": [
        {
          "output_type": "stream",
          "name": "stdout",
          "text": [
            "Fișier salvat la: /content/drive/MyDrive/ann_dataset/dataset_sepia_64x64.npz\n"
          ]
        }
      ]
    },
    {
      "cell_type": "code",
      "source": [
        "import random\n",
        "\n",
        "data = list(zip(X, y))\n",
        "random.shuffle(data)\n",
        "\n",
        "X_shuffled, y_shuffled = zip(*data)\n",
        "\n",
        "train_size = int(0.8 * len(X_shuffled))\n",
        "X_train_raw = list(X_shuffled[:train_size])\n",
        "y_train = list(y_shuffled[:train_size])\n",
        "X_test_raw = list(X_shuffled[train_size:])\n",
        "y_test = list(y_shuffled[train_size:])\n",
        "\n",
        "X_train = [[x_i / 255.0 for x_i in x] for x in X_train_raw]\n",
        "X_test = [[x_i / 255.0 for x_i in x] for x in X_test_raw]\n",
        "\n",
        "print(f\"Formă X_train: {len(X_train)}, Formă y_train: {len(y_train)}\")\n",
        "print(f\"Formă X_test: {len(X_test)}, Formă y_test: {len(y_test)}\")\n"
      ],
      "metadata": {
        "id": "XNidDY6ogKDX",
        "colab": {
          "base_uri": "https://localhost:8080/"
        },
        "outputId": "7d367974-19fa-426a-e784-beba6fe900b9"
      },
      "execution_count": 152,
      "outputs": [
        {
          "output_type": "stream",
          "name": "stdout",
          "text": [
            "Formă X_train: 160, Formă y_train: 160\n",
            "Formă X_test: 40, Formă y_test: 40\n"
          ]
        }
      ]
    },
    {
      "cell_type": "code",
      "source": [
        "import random\n",
        "import math"
      ],
      "metadata": {
        "id": "L3XAiXNpbrFl"
      },
      "execution_count": 153,
      "outputs": []
    },
    {
      "cell_type": "code",
      "source": [
        "import random\n",
        "import math\n",
        "\n",
        "class MyAnn:\n",
        "    def __init__(self, input_size, hidden_size=5):\n",
        "        self.input_size = input_size\n",
        "        self.hidden_size = hidden_size\n",
        "        self.output_size = 1\n",
        "\n",
        "        self.w1 = [[random.uniform(-1, 1) for _ in range(hidden_size)] for _ in range(input_size)]\n",
        "        self.b1 = [0.0 for _ in range(hidden_size)]\n",
        "\n",
        "        self.w2 = [[random.uniform(-1, 1)] for _ in range(hidden_size)]\n",
        "        self.b2 = [0.0]\n",
        "\n",
        "    def sigmoid(self, x):\n",
        "        return 1 / (1 + math.exp(-x))\n",
        "\n",
        "    def sigmoid_deriv(self, sigmoid_x):\n",
        "        return sigmoid_x * (1 - sigmoid_x)\n",
        "\n",
        "    def dot(self, vect1, vect2):\n",
        "        return sum(x * y for x, y in zip(vect1, vect2))\n",
        "\n",
        "    def forward(self, x):\n",
        "        z1 = []\n",
        "        for j in range(self.hidden_size):\n",
        "            weighted_sum = self.dot(x, [self.w1[i][j] for i in range(self.input_size)]) + self.b1[j]\n",
        "            z1.append(self.sigmoid(weighted_sum))\n",
        "\n",
        "        output_input = self.dot(z1, [self.w2[j][0] for j in range(self.hidden_size)]) + self.b2[0]\n",
        "        output = self.sigmoid(output_input)\n",
        "        return z1, output\n",
        "\n",
        "    def fit(self, X, y, epochs=10, lr=0.1):\n",
        "        for epoch in range(epochs):\n",
        "            loss_total = 0\n",
        "\n",
        "            for xi, target in zip(X, y):\n",
        "                target = float(target)\n",
        "                z1, output = self.forward(xi)\n",
        "\n",
        "                error = output - target\n",
        "                loss_total += error ** 2\n",
        "\n",
        "                d_output = error * self.sigmoid_deriv(output)\n",
        "\n",
        "                for j in range(self.hidden_size):\n",
        "                    self.w2[j][0] -= lr * d_output * z1[j]\n",
        "                self.b2[0] -= lr * d_output\n",
        "\n",
        "                for j in range(self.hidden_size):\n",
        "                    d_hidden = d_output * self.w2[j][0] * self.sigmoid_deriv(z1[j])\n",
        "                    for i in range(self.input_size):\n",
        "                        self.w1[i][j] -= lr * d_hidden * xi[i]\n",
        "                    self.b1[j] -= lr * d_hidden\n",
        "\n",
        "            print(f\"Epoch {epoch + 1} - Loss: {loss_total:.4f}\")\n",
        "\n",
        "    def predict(self, x):\n",
        "        _, output = self.forward(x)\n",
        "        return 1 if output > 0.5 else 0\n",
        "\n",
        "    def accuracy(self, X, y):\n",
        "        correct = 0\n",
        "        for xi, yi in zip(X, y):\n",
        "            prediction = self.predict(xi)\n",
        "            if prediction == yi:\n",
        "                correct += 1\n",
        "        return correct / len(y)\n"
      ],
      "metadata": {
        "id": "_T5k1bAFZ9Vt"
      },
      "execution_count": 154,
      "outputs": []
    },
    {
      "cell_type": "code",
      "source": [
        "input_size = len(X_train[0])\n",
        "model = MyAnn(input_size=input_size)\n",
        "\n",
        "model.fit(X_train, y_train, epochs=32, lr=0.1)\n",
        "\n",
        "acc = model.accuracy(X_test, y_test)\n",
        "print(f\"Acuratețea pe setul de test: {acc * 100:.2f}%\")"
      ],
      "metadata": {
        "colab": {
          "base_uri": "https://localhost:8080/"
        },
        "id": "vVsuLsCjf9a0",
        "outputId": "054ef673-0eac-49d5-e14f-3c4980ebb6bb"
      },
      "execution_count": 144,
      "outputs": [
        {
          "output_type": "stream",
          "name": "stderr",
          "text": [
            "<ipython-input-141-2f57592a6467>:40: DeprecationWarning: Conversion of an array with ndim > 0 to a scalar is deprecated, and will error in future. Ensure you extract a single element from your array before performing this operation. (Deprecated NumPy 1.25.)\n",
            "  target = float(target)\n"
          ]
        },
        {
          "output_type": "stream",
          "name": "stdout",
          "text": [
            "Epoch 1 - Loss: 39.8018\n",
            "Epoch 2 - Loss: 39.8850\n",
            "Epoch 3 - Loss: 39.9653\n",
            "Epoch 4 - Loss: 39.9609\n",
            "Epoch 5 - Loss: 39.9465\n",
            "Epoch 6 - Loss: 39.9307\n",
            "Epoch 7 - Loss: 39.9144\n",
            "Epoch 8 - Loss: 39.8975\n",
            "Epoch 9 - Loss: 39.8802\n",
            "Epoch 10 - Loss: 39.8624\n",
            "Epoch 11 - Loss: 39.8441\n",
            "Epoch 12 - Loss: 39.8252\n",
            "Epoch 13 - Loss: 39.8058\n",
            "Epoch 14 - Loss: 39.7858\n",
            "Epoch 15 - Loss: 39.7652\n",
            "Epoch 16 - Loss: 39.7440\n",
            "Epoch 17 - Loss: 39.7222\n",
            "Epoch 18 - Loss: 39.6998\n",
            "Epoch 19 - Loss: 39.6767\n",
            "Epoch 20 - Loss: 39.6529\n",
            "Epoch 21 - Loss: 39.6284\n",
            "Epoch 22 - Loss: 39.6032\n",
            "Epoch 23 - Loss: 39.5772\n",
            "Epoch 24 - Loss: 39.5505\n",
            "Epoch 25 - Loss: 39.5229\n",
            "Epoch 26 - Loss: 39.4946\n",
            "Epoch 27 - Loss: 39.4654\n",
            "Epoch 28 - Loss: 39.4354\n",
            "Epoch 29 - Loss: 39.4045\n",
            "Epoch 30 - Loss: 39.3726\n",
            "Epoch 31 - Loss: 39.3399\n",
            "Epoch 32 - Loss: 39.3061\n",
            "Acuratețea pe setul de test: 45.00%\n"
          ]
        }
      ]
    },
    {
      "cell_type": "markdown",
      "source": [
        "# CNN cod propriu\n"
      ],
      "metadata": {
        "id": "Mh6YxhZ4JOvp"
      }
    },
    {
      "cell_type": "code",
      "source": [
        "import pandas as pd\n",
        "import numpy as np\n",
        "from PIL import Image\n",
        "import os\n",
        "from tensorflow.keras.utils import to_categorical\n",
        "\n",
        "csv_path = \"/content/drive/MyDrive/imagini3/image_labels3.csv\"\n",
        "image_size = (64, 64)\n",
        "\n",
        "output_dir = \"/content/drive/MyDrive/cnn_dataset\"\n",
        "os.makedirs(output_dir, exist_ok=True)\n",
        "\n",
        "df = pd.read_csv(csv_path)\n",
        "\n",
        "X = []\n",
        "y = []\n",
        "\n",
        "for idx, row in df.iterrows():\n",
        "    path = row['file_path']\n",
        "    label = int(row['is_sepia'])\n",
        "\n",
        "    try:\n",
        "        img = Image.open(path).convert('RGB')\n",
        "        img = img.resize(image_size)\n",
        "\n",
        "        label_folder = os.path.join(output_dir, str(label))\n",
        "        os.makedirs(label_folder, exist_ok=True)\n",
        "\n",
        "        filename = f\"img_{idx}.png\"\n",
        "        img.save(os.path.join(label_folder, filename))\n",
        "\n",
        "        img_array = np.array(img) / 255.0\n",
        "        X.append(img_array)\n",
        "        y.append(label)\n",
        "\n",
        "    except Exception as e:\n",
        "        print(f\"Imaginea nu a putut fi procesată: {path} ({e})\")\n",
        "\n",
        "X = np.array(X)\n",
        "y = to_categorical(np.array(y))  # one-hot encoding\n",
        "\n",
        "print(f\"Formă X: {X.shape}, Formă y: {y.shape}\")\n",
        "print(f\"Imaginile au fost salvate în: {output_dir}\")\n"
      ],
      "metadata": {
        "colab": {
          "base_uri": "https://localhost:8080/"
        },
        "id": "uti837S5JSmK",
        "outputId": "62b38966-688f-492d-9d1b-b54d5f6812d0"
      },
      "execution_count": 155,
      "outputs": [
        {
          "output_type": "stream",
          "name": "stdout",
          "text": [
            "Formă X: (200, 64, 64, 3), Formă y: (200, 2)\n",
            "Imaginile au fost salvate în: /content/drive/MyDrive/cnn_dataset\n"
          ]
        }
      ]
    },
    {
      "cell_type": "code",
      "source": [
        "import random\n",
        "import numpy as np\n",
        "\n",
        "data = list(zip(X, y))\n",
        "random.shuffle(data)\n",
        "X_shuffled, y_shuffled = zip(*data)\n",
        "\n",
        "train_size = int(0.8 * len(X_shuffled))\n",
        "X_train = np.array(X_shuffled[:train_size])\n",
        "y_train = np.array(y_shuffled[:train_size])\n",
        "X_test = np.array(X_shuffled[train_size:])\n",
        "y_test = np.array(y_shuffled[train_size:])\n",
        "\n",
        "print(f\"Formă X_train: {X_train.shape}, Formă y_train: {y_train.shape}\")\n",
        "print(f\"Formă X_test: {X_test.shape}, Formă y_test: {y_test.shape}\")\n"
      ],
      "metadata": {
        "colab": {
          "base_uri": "https://localhost:8080/"
        },
        "id": "TfkwQQQzKcv7",
        "outputId": "a505831b-be97-4b13-f05f-31e4aea4c760"
      },
      "execution_count": 160,
      "outputs": [
        {
          "output_type": "stream",
          "name": "stdout",
          "text": [
            "Formă X_train: (160, 64, 64, 3), Formă y_train: (160, 2)\n",
            "Formă X_test: (40, 64, 64, 3), Formă y_test: (40, 2)\n"
          ]
        }
      ]
    }
  ]
}